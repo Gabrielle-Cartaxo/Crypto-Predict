{
 "cells": [
  {
   "cell_type": "markdown",
   "metadata": {},
   "source": [
    "## Escolha do modelo\n",
    "\n",
    "Aqui nesse notebook testarei modelos diferentes a fim de descobrir qual é o melhor para prever os próxomos preços do Bitcoin"
   ]
  }
 ],
 "metadata": {
  "language_info": {
   "name": "python"
  }
 },
 "nbformat": 4,
 "nbformat_minor": 2
}
